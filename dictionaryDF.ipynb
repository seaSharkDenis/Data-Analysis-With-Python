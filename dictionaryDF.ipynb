{
  "nbformat": 4,
  "nbformat_minor": 0,
  "metadata": {
    "colab": {
      "provenance": [],
      "authorship_tag": "ABX9TyNIEN6H9H7gF+3TE1zzC9rI",
      "include_colab_link": true
    },
    "kernelspec": {
      "name": "python3",
      "display_name": "Python 3"
    },
    "language_info": {
      "name": "python"
    }
  },
  "cells": [
    {
      "cell_type": "markdown",
      "metadata": {
        "id": "view-in-github",
        "colab_type": "text"
      },
      "source": [
        "<a href=\"https://colab.research.google.com/github/seaSharkDenis/Data-Analysis-With-Python/blob/main/dictionaryDF.ipynb\" target=\"_parent\"><img src=\"https://colab.research.google.com/assets/colab-badge.svg\" alt=\"Open In Colab\"/></a>"
      ]
    },
    {
      "cell_type": "code",
      "execution_count": 10,
      "metadata": {
        "colab": {
          "base_uri": "https://localhost:8080/"
        },
        "id": "auKoJcB1-dEJ",
        "outputId": "8981e03d-8478-463d-f950-12ba9359ce3b"
      },
      "outputs": [
        {
          "output_type": "stream",
          "name": "stdout",
          "text": [
            "      Name  Age         City\n",
            "0    Alice   25     New York\n",
            "1      Bob   30  Los Angeles\n",
            "2  Charlie   35      Chicago\n",
            "3    Denis   30     New York\n"
          ]
        }
      ],
      "source": [
        "import pandas as pd\n",
        "\n",
        "# Creating DataFrame from a dictionary\n",
        "data = {\n",
        "    'Name': ['Alice', 'Bob', 'Charlie', 'Denis'],\n",
        "    'Age': [25, 30, 35, 30],\n",
        "    'City': ['New York', 'Los Angeles', 'Chicago', 'New York']\n",
        "}\n",
        "\n",
        "df = pd.DataFrame(data)\n",
        "print(df)"
      ]
    },
    {
      "cell_type": "code",
      "source": [
        "# Basic filtering\n",
        "df_filtered = df[df['Age']>25]\n",
        "print(df_filtered)"
      ],
      "metadata": {
        "colab": {
          "base_uri": "https://localhost:8080/"
        },
        "id": "SSE96vRfAha7",
        "outputId": "fac0fcdb-8f04-4459-e17b-c942e53ebee8"
      },
      "execution_count": 12,
      "outputs": [
        {
          "output_type": "stream",
          "name": "stdout",
          "text": [
            "      Name  Age         City\n",
            "1      Bob   30  Los Angeles\n",
            "2  Charlie   35      Chicago\n",
            "3    Denis   30     New York\n"
          ]
        }
      ]
    },
    {
      "cell_type": "code",
      "source": [
        "# Multiple conditions\n",
        "df_filtered_one = df[(df['Age']>20) & (df['City']=='New York')]\n",
        "print(df_filtered_one)"
      ],
      "metadata": {
        "colab": {
          "base_uri": "https://localhost:8080/"
        },
        "id": "7VnWUWKNGJ7c",
        "outputId": "14911e6f-9962-4986-e95c-c51ec229f672"
      },
      "execution_count": 13,
      "outputs": [
        {
          "output_type": "stream",
          "name": "stdout",
          "text": [
            "    Name  Age      City\n",
            "0  Alice   25  New York\n",
            "3  Denis   30  New York\n"
          ]
        }
      ]
    },
    {
      "cell_type": "code",
      "source": [
        "# Aggregating data\n",
        "# Groupby: pandas groupby method is essential for aggregating data based on\n",
        "# one or more columns. For example:\n",
        "grouped = df.groupby('City').agg({'Age': 'mean', 'Name': 'count'})\n",
        "print(grouped)"
      ],
      "metadata": {
        "colab": {
          "base_uri": "https://localhost:8080/"
        },
        "id": "NNfsUxyMI_gR",
        "outputId": "7ef916e2-889f-4445-9108-f4af82e7e950"
      },
      "execution_count": 14,
      "outputs": [
        {
          "output_type": "stream",
          "name": "stdout",
          "text": [
            "              Age  Name\n",
            "City                   \n",
            "Chicago      35.0     1\n",
            "Los Angeles  30.0     1\n",
            "New York     27.5     2\n"
          ]
        }
      ]
    }
  ]
}